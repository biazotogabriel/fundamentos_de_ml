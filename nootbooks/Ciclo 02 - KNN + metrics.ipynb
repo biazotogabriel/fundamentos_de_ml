{
 "cells": [
  {
   "cell_type": "markdown",
   "id": "ea1f1c02-92c2-4c92-9b8d-5e96ef80474e",
   "metadata": {},
   "source": [
    "# Ciclo 02: Aprendizado Supervisionado - Cassificacao"
   ]
  },
  {
   "cell_type": "markdown",
   "id": "6d6e5c58-cc74-4da1-b556-503f5bdd1329",
   "metadata": {
    "tags": []
   },
   "source": [
    "### 0.0 Installs"
   ]
  },
  {
   "cell_type": "code",
   "execution_count": 3,
   "id": "2ada86e4-d728-4ff6-a551-af7f03488ec2",
   "metadata": {
    "tags": []
   },
   "outputs": [
    {
     "name": "stdout",
     "output_type": "stream",
     "text": [
      "Collecting scikit-learn\n",
      "  Downloading scikit_learn-1.2.1-cp38-cp38-manylinux_2_17_x86_64.manylinux2014_x86_64.whl (9.8 MB)\n",
      "\u001b[2K     \u001b[90m━━━━━━━━━━━━━━━━━━━━━━━━━━━━━━━━━━━━━━━━\u001b[0m \u001b[32m9.8/9.8 MB\u001b[0m \u001b[31m2.8 MB/s\u001b[0m eta \u001b[36m0:00:00\u001b[0m00:01\u001b[0m00:01\u001b[0m\n",
      "\u001b[?25hRequirement already satisfied: numpy>=1.17.3 in /home/biazotogabriel/.config/jupyterlab-desktop/jlab_server/lib/python3.8/site-packages (from scikit-learn) (1.24.2)\n",
      "Collecting threadpoolctl>=2.0.0\n",
      "  Downloading threadpoolctl-3.1.0-py3-none-any.whl (14 kB)\n",
      "Requirement already satisfied: scipy>=1.3.2 in /home/biazotogabriel/.config/jupyterlab-desktop/jlab_server/lib/python3.8/site-packages (from scikit-learn) (1.10.0)\n",
      "Collecting joblib>=1.1.1\n",
      "  Downloading joblib-1.2.0-py3-none-any.whl (297 kB)\n",
      "\u001b[2K     \u001b[90m━━━━━━━━━━━━━━━━━━━━━━━━━━━━━━━━━━━━━━━\u001b[0m \u001b[32m298.0/298.0 kB\u001b[0m \u001b[31m2.4 MB/s\u001b[0m eta \u001b[36m0:00:00\u001b[0ma \u001b[36m0:00:01\u001b[0m\n",
      "\u001b[?25hInstalling collected packages: threadpoolctl, joblib, scikit-learn\n",
      "Successfully installed joblib-1.2.0 scikit-learn-1.2.1 threadpoolctl-3.1.0\n"
     ]
    }
   ],
   "source": [
    "!pip install -U scikit-learn"
   ]
  },
  {
   "cell_type": "markdown",
   "id": "7d8abee9-583d-43b9-9180-06c4f323cde4",
   "metadata": {},
   "source": [
    "### 1.0 Import libraries"
   ]
  },
  {
   "cell_type": "code",
   "execution_count": 1,
   "id": "70912336-50c5-4b5d-8b0c-ee947e09cf3c",
   "metadata": {
    "tags": []
   },
   "outputs": [],
   "source": [
    "import pandas as pd\n",
    "from sklearn.neighbors import KNeighborsClassifier\n",
    "from sklearn import metrics as mt"
   ]
  },
  {
   "cell_type": "markdown",
   "id": "410584e0-55ba-44aa-a910-12d6f21b7ee2",
   "metadata": {},
   "source": [
    "### 1.1 Load Dataset"
   ]
  },
  {
   "cell_type": "code",
   "execution_count": 2,
   "id": "c5ed2ff9-79ed-4a93-bd9e-d059cf550dba",
   "metadata": {
    "tags": []
   },
   "outputs": [],
   "source": [
    "dataset_path = '../datasets/train.csv'\n",
    "df = pd.read_csv(dataset_path)"
   ]
  },
  {
   "cell_type": "code",
   "execution_count": 3,
   "id": "debf78f8-7322-4bba-864c-dc0e0661f2bb",
   "metadata": {
    "tags": []
   },
   "outputs": [
    {
     "data": {
      "text/html": [
       "<div>\n",
       "<style scoped>\n",
       "    .dataframe tbody tr th:only-of-type {\n",
       "        vertical-align: middle;\n",
       "    }\n",
       "\n",
       "    .dataframe tbody tr th {\n",
       "        vertical-align: top;\n",
       "    }\n",
       "\n",
       "    .dataframe thead th {\n",
       "        text-align: right;\n",
       "    }\n",
       "</style>\n",
       "<table border=\"1\" class=\"dataframe\">\n",
       "  <thead>\n",
       "    <tr style=\"text-align: right;\">\n",
       "      <th></th>\n",
       "      <th>id_cliente</th>\n",
       "      <th>idade</th>\n",
       "      <th>saldo_atual</th>\n",
       "      <th>divida_atual</th>\n",
       "      <th>renda_anual</th>\n",
       "      <th>valor_em_investimentos</th>\n",
       "      <th>taxa_utilizacao_credito</th>\n",
       "      <th>num_emprestimos</th>\n",
       "      <th>num_contas_bancarias</th>\n",
       "      <th>num_cartoes_credito</th>\n",
       "      <th>dias_atraso_dt_venc</th>\n",
       "      <th>num_pgtos_atrasados</th>\n",
       "      <th>num_consultas_credito</th>\n",
       "      <th>taxa_juros</th>\n",
       "      <th>investe_exterior</th>\n",
       "      <th>pessoa_polit_exp</th>\n",
       "      <th>limite_adicional</th>\n",
       "    </tr>\n",
       "  </thead>\n",
       "  <tbody>\n",
       "    <tr>\n",
       "      <th>0</th>\n",
       "      <td>1767</td>\n",
       "      <td>21</td>\n",
       "      <td>278.172008</td>\n",
       "      <td>2577.05</td>\n",
       "      <td>24196.89636</td>\n",
       "      <td>104.306544</td>\n",
       "      <td>31.038763</td>\n",
       "      <td>6</td>\n",
       "      <td>5</td>\n",
       "      <td>7</td>\n",
       "      <td>21</td>\n",
       "      <td>14</td>\n",
       "      <td>9</td>\n",
       "      <td>15</td>\n",
       "      <td>Não</td>\n",
       "      <td>Não</td>\n",
       "      <td>Negar</td>\n",
       "    </tr>\n",
       "    <tr>\n",
       "      <th>1</th>\n",
       "      <td>11920</td>\n",
       "      <td>40</td>\n",
       "      <td>268.874152</td>\n",
       "      <td>2465.39</td>\n",
       "      <td>19227.37796</td>\n",
       "      <td>69.858778</td>\n",
       "      <td>36.917093</td>\n",
       "      <td>5</td>\n",
       "      <td>8</td>\n",
       "      <td>5</td>\n",
       "      <td>40</td>\n",
       "      <td>23</td>\n",
       "      <td>10</td>\n",
       "      <td>18</td>\n",
       "      <td>Não</td>\n",
       "      <td>Não</td>\n",
       "      <td>Negar</td>\n",
       "    </tr>\n",
       "    <tr>\n",
       "      <th>2</th>\n",
       "      <td>8910</td>\n",
       "      <td>36</td>\n",
       "      <td>446.643127</td>\n",
       "      <td>1055.29</td>\n",
       "      <td>42822.28223</td>\n",
       "      <td>134.201478</td>\n",
       "      <td>34.561714</td>\n",
       "      <td>0</td>\n",
       "      <td>3</td>\n",
       "      <td>6</td>\n",
       "      <td>26</td>\n",
       "      <td>13</td>\n",
       "      <td>3</td>\n",
       "      <td>15</td>\n",
       "      <td>Sim</td>\n",
       "      <td>Não</td>\n",
       "      <td>Negar</td>\n",
       "    </tr>\n",
       "    <tr>\n",
       "      <th>3</th>\n",
       "      <td>4964</td>\n",
       "      <td>58</td>\n",
       "      <td>321.141267</td>\n",
       "      <td>703.05</td>\n",
       "      <td>51786.82600</td>\n",
       "      <td>297.350067</td>\n",
       "      <td>31.493561</td>\n",
       "      <td>0</td>\n",
       "      <td>3</td>\n",
       "      <td>7</td>\n",
       "      <td>12</td>\n",
       "      <td>7</td>\n",
       "      <td>2</td>\n",
       "      <td>1</td>\n",
       "      <td>Sim</td>\n",
       "      <td>Não</td>\n",
       "      <td>Negar</td>\n",
       "    </tr>\n",
       "    <tr>\n",
       "      <th>4</th>\n",
       "      <td>10100</td>\n",
       "      <td>35</td>\n",
       "      <td>428.716114</td>\n",
       "      <td>891.29</td>\n",
       "      <td>44626.85346</td>\n",
       "      <td>134.201478</td>\n",
       "      <td>28.028887</td>\n",
       "      <td>2</td>\n",
       "      <td>8</td>\n",
       "      <td>7</td>\n",
       "      <td>24</td>\n",
       "      <td>10</td>\n",
       "      <td>8</td>\n",
       "      <td>20</td>\n",
       "      <td>Sim</td>\n",
       "      <td>Não</td>\n",
       "      <td>Negar</td>\n",
       "    </tr>\n",
       "  </tbody>\n",
       "</table>\n",
       "</div>"
      ],
      "text/plain": [
       "   id_cliente  idade  saldo_atual  divida_atual  renda_anual  \\\n",
       "0        1767     21   278.172008       2577.05  24196.89636   \n",
       "1       11920     40   268.874152       2465.39  19227.37796   \n",
       "2        8910     36   446.643127       1055.29  42822.28223   \n",
       "3        4964     58   321.141267        703.05  51786.82600   \n",
       "4       10100     35   428.716114        891.29  44626.85346   \n",
       "\n",
       "   valor_em_investimentos  taxa_utilizacao_credito  num_emprestimos  \\\n",
       "0              104.306544                31.038763                6   \n",
       "1               69.858778                36.917093                5   \n",
       "2              134.201478                34.561714                0   \n",
       "3              297.350067                31.493561                0   \n",
       "4              134.201478                28.028887                2   \n",
       "\n",
       "   num_contas_bancarias  num_cartoes_credito  dias_atraso_dt_venc  \\\n",
       "0                     5                    7                   21   \n",
       "1                     8                    5                   40   \n",
       "2                     3                    6                   26   \n",
       "3                     3                    7                   12   \n",
       "4                     8                    7                   24   \n",
       "\n",
       "   num_pgtos_atrasados  num_consultas_credito  taxa_juros investe_exterior  \\\n",
       "0                   14                      9          15              Não   \n",
       "1                   23                     10          18              Não   \n",
       "2                   13                      3          15              Sim   \n",
       "3                    7                      2           1              Sim   \n",
       "4                   10                      8          20              Sim   \n",
       "\n",
       "  pessoa_polit_exp limite_adicional  \n",
       "0              Não            Negar  \n",
       "1              Não            Negar  \n",
       "2              Não            Negar  \n",
       "3              Não            Negar  \n",
       "4              Não            Negar  "
      ]
     },
     "execution_count": 3,
     "metadata": {},
     "output_type": "execute_result"
    }
   ],
   "source": [
    "df.head()"
   ]
  },
  {
   "cell_type": "code",
   "execution_count": 4,
   "id": "d3f52a30-afcd-49a5-8a10-a3e91fcb43d1",
   "metadata": {
    "tags": []
   },
   "outputs": [
    {
     "data": {
      "text/plain": [
       "array(['Negar', 'Conceder'], dtype=object)"
      ]
     },
     "execution_count": 4,
     "metadata": {},
     "output_type": "execute_result"
    }
   ],
   "source": [
    "df.loc[:, 'limite_adicional'].unique()"
   ]
  },
  {
   "cell_type": "markdown",
   "id": "1968f527-69e0-4c31-88ac-047297f8e433",
   "metadata": {
    "tags": []
   },
   "source": [
    "### 2.0 Selecao de Features"
   ]
  },
  {
   "cell_type": "code",
   "execution_count": 5,
   "id": "25654518-d7bc-4870-a474-00a22dcb08d3",
   "metadata": {
    "tags": []
   },
   "outputs": [],
   "source": [
    "features = ['idade', 'saldo_atual', 'divida_atual', 'renda_anual', 'valor_em_investimentos', 'taxa_utilizacao_credito', 'num_emprestimos', 'num_contas_bancarias', 'num_cartoes_credito', 'dias_atraso_dt_venc', 'num_pgtos_atrasados', 'num_consultas_credito', 'taxa_juros']\n",
    "label = 'limite_adicional'\n",
    "\n",
    "x_train = df.loc[:, features]\n",
    "y_train = df.loc[:, label]"
   ]
  },
  {
   "cell_type": "markdown",
   "id": "8f07a2bc-a750-4c56-9936-ebae33b69ec8",
   "metadata": {
    "tags": []
   },
   "source": [
    "### 3.0 Treinamento"
   ]
  },
  {
   "cell_type": "code",
   "execution_count": 6,
   "id": "c4d4e7c3-cfa5-4c8c-9357-7e6dd010825b",
   "metadata": {},
   "outputs": [
    {
     "data": {
      "text/html": [
       "<style>#sk-container-id-1 {color: black;background-color: white;}#sk-container-id-1 pre{padding: 0;}#sk-container-id-1 div.sk-toggleable {background-color: white;}#sk-container-id-1 label.sk-toggleable__label {cursor: pointer;display: block;width: 100%;margin-bottom: 0;padding: 0.3em;box-sizing: border-box;text-align: center;}#sk-container-id-1 label.sk-toggleable__label-arrow:before {content: \"▸\";float: left;margin-right: 0.25em;color: #696969;}#sk-container-id-1 label.sk-toggleable__label-arrow:hover:before {color: black;}#sk-container-id-1 div.sk-estimator:hover label.sk-toggleable__label-arrow:before {color: black;}#sk-container-id-1 div.sk-toggleable__content {max-height: 0;max-width: 0;overflow: hidden;text-align: left;background-color: #f0f8ff;}#sk-container-id-1 div.sk-toggleable__content pre {margin: 0.2em;color: black;border-radius: 0.25em;background-color: #f0f8ff;}#sk-container-id-1 input.sk-toggleable__control:checked~div.sk-toggleable__content {max-height: 200px;max-width: 100%;overflow: auto;}#sk-container-id-1 input.sk-toggleable__control:checked~label.sk-toggleable__label-arrow:before {content: \"▾\";}#sk-container-id-1 div.sk-estimator input.sk-toggleable__control:checked~label.sk-toggleable__label {background-color: #d4ebff;}#sk-container-id-1 div.sk-label input.sk-toggleable__control:checked~label.sk-toggleable__label {background-color: #d4ebff;}#sk-container-id-1 input.sk-hidden--visually {border: 0;clip: rect(1px 1px 1px 1px);clip: rect(1px, 1px, 1px, 1px);height: 1px;margin: -1px;overflow: hidden;padding: 0;position: absolute;width: 1px;}#sk-container-id-1 div.sk-estimator {font-family: monospace;background-color: #f0f8ff;border: 1px dotted black;border-radius: 0.25em;box-sizing: border-box;margin-bottom: 0.5em;}#sk-container-id-1 div.sk-estimator:hover {background-color: #d4ebff;}#sk-container-id-1 div.sk-parallel-item::after {content: \"\";width: 100%;border-bottom: 1px solid gray;flex-grow: 1;}#sk-container-id-1 div.sk-label:hover label.sk-toggleable__label {background-color: #d4ebff;}#sk-container-id-1 div.sk-serial::before {content: \"\";position: absolute;border-left: 1px solid gray;box-sizing: border-box;top: 0;bottom: 0;left: 50%;z-index: 0;}#sk-container-id-1 div.sk-serial {display: flex;flex-direction: column;align-items: center;background-color: white;padding-right: 0.2em;padding-left: 0.2em;position: relative;}#sk-container-id-1 div.sk-item {position: relative;z-index: 1;}#sk-container-id-1 div.sk-parallel {display: flex;align-items: stretch;justify-content: center;background-color: white;position: relative;}#sk-container-id-1 div.sk-item::before, #sk-container-id-1 div.sk-parallel-item::before {content: \"\";position: absolute;border-left: 1px solid gray;box-sizing: border-box;top: 0;bottom: 0;left: 50%;z-index: -1;}#sk-container-id-1 div.sk-parallel-item {display: flex;flex-direction: column;z-index: 1;position: relative;background-color: white;}#sk-container-id-1 div.sk-parallel-item:first-child::after {align-self: flex-end;width: 50%;}#sk-container-id-1 div.sk-parallel-item:last-child::after {align-self: flex-start;width: 50%;}#sk-container-id-1 div.sk-parallel-item:only-child::after {width: 0;}#sk-container-id-1 div.sk-dashed-wrapped {border: 1px dashed gray;margin: 0 0.4em 0.5em 0.4em;box-sizing: border-box;padding-bottom: 0.4em;background-color: white;}#sk-container-id-1 div.sk-label label {font-family: monospace;font-weight: bold;display: inline-block;line-height: 1.2em;}#sk-container-id-1 div.sk-label-container {text-align: center;}#sk-container-id-1 div.sk-container {/* jupyter's `normalize.less` sets `[hidden] { display: none; }` but bootstrap.min.css set `[hidden] { display: none !important; }` so we also need the `!important` here to be able to override the default hidden behavior on the sphinx rendered scikit-learn.org. See: https://github.com/scikit-learn/scikit-learn/issues/21755 */display: inline-block !important;position: relative;}#sk-container-id-1 div.sk-text-repr-fallback {display: none;}</style><div id=\"sk-container-id-1\" class=\"sk-top-container\"><div class=\"sk-text-repr-fallback\"><pre>KNeighborsClassifier(n_neighbors=7)</pre><b>In a Jupyter environment, please rerun this cell to show the HTML representation or trust the notebook. <br />On GitHub, the HTML representation is unable to render, please try loading this page with nbviewer.org.</b></div><div class=\"sk-container\" hidden><div class=\"sk-item\"><div class=\"sk-estimator sk-toggleable\"><input class=\"sk-toggleable__control sk-hidden--visually\" id=\"sk-estimator-id-1\" type=\"checkbox\" checked><label for=\"sk-estimator-id-1\" class=\"sk-toggleable__label sk-toggleable__label-arrow\">KNeighborsClassifier</label><div class=\"sk-toggleable__content\"><pre>KNeighborsClassifier(n_neighbors=7)</pre></div></div></div></div></div>"
      ],
      "text/plain": [
       "KNeighborsClassifier(n_neighbors=7)"
      ]
     },
     "execution_count": 6,
     "metadata": {},
     "output_type": "execute_result"
    }
   ],
   "source": [
    "# definicao de parametros do treinamentos \n",
    "k = 7\n",
    "knn_classifier = KNeighborsClassifier( n_neighbors = k )\n",
    "\n",
    "#treinamento\n",
    "knn_classifier.fit(x_train, y_train)"
   ]
  },
  {
   "cell_type": "code",
   "execution_count": 7,
   "id": "46ed6f91-dbe7-4448-af02-773ee158cb3c",
   "metadata": {
    "tags": []
   },
   "outputs": [],
   "source": [
    "y_pred = knn_classifier.predict(x_train)"
   ]
  },
  {
   "cell_type": "code",
   "execution_count": 8,
   "id": "97e1f8b2-ab26-4258-818e-5a850ab18e30",
   "metadata": {
    "tags": []
   },
   "outputs": [],
   "source": [
    "df_result = df.copy()\n",
    "df_result['classificacao'] = y_pred"
   ]
  },
  {
   "cell_type": "code",
   "execution_count": 9,
   "id": "3d45f3ce-daca-499d-a462-b252be4a4764",
   "metadata": {
    "tags": []
   },
   "outputs": [
    {
     "data": {
      "text/html": [
       "<div>\n",
       "<style scoped>\n",
       "    .dataframe tbody tr th:only-of-type {\n",
       "        vertical-align: middle;\n",
       "    }\n",
       "\n",
       "    .dataframe tbody tr th {\n",
       "        vertical-align: top;\n",
       "    }\n",
       "\n",
       "    .dataframe thead th {\n",
       "        text-align: right;\n",
       "    }\n",
       "</style>\n",
       "<table border=\"1\" class=\"dataframe\">\n",
       "  <thead>\n",
       "    <tr style=\"text-align: right;\">\n",
       "      <th></th>\n",
       "      <th>id_cliente</th>\n",
       "      <th>idade</th>\n",
       "      <th>limite_adicional</th>\n",
       "      <th>classificacao</th>\n",
       "    </tr>\n",
       "  </thead>\n",
       "  <tbody>\n",
       "    <tr>\n",
       "      <th>3825</th>\n",
       "      <td>5941</td>\n",
       "      <td>33</td>\n",
       "      <td>Negar</td>\n",
       "      <td>Negar</td>\n",
       "    </tr>\n",
       "    <tr>\n",
       "      <th>8329</th>\n",
       "      <td>8646</td>\n",
       "      <td>23</td>\n",
       "      <td>Negar</td>\n",
       "      <td>Negar</td>\n",
       "    </tr>\n",
       "    <tr>\n",
       "      <th>4078</th>\n",
       "      <td>713</td>\n",
       "      <td>25</td>\n",
       "      <td>Conceder</td>\n",
       "      <td>Conceder</td>\n",
       "    </tr>\n",
       "    <tr>\n",
       "      <th>8081</th>\n",
       "      <td>9639</td>\n",
       "      <td>49</td>\n",
       "      <td>Negar</td>\n",
       "      <td>Negar</td>\n",
       "    </tr>\n",
       "    <tr>\n",
       "      <th>5663</th>\n",
       "      <td>301</td>\n",
       "      <td>53</td>\n",
       "      <td>Conceder</td>\n",
       "      <td>Negar</td>\n",
       "    </tr>\n",
       "    <tr>\n",
       "      <th>1497</th>\n",
       "      <td>7524</td>\n",
       "      <td>54</td>\n",
       "      <td>Negar</td>\n",
       "      <td>Negar</td>\n",
       "    </tr>\n",
       "    <tr>\n",
       "      <th>560</th>\n",
       "      <td>2865</td>\n",
       "      <td>40</td>\n",
       "      <td>Negar</td>\n",
       "      <td>Negar</td>\n",
       "    </tr>\n",
       "    <tr>\n",
       "      <th>8153</th>\n",
       "      <td>5163</td>\n",
       "      <td>44</td>\n",
       "      <td>Conceder</td>\n",
       "      <td>Negar</td>\n",
       "    </tr>\n",
       "    <tr>\n",
       "      <th>4282</th>\n",
       "      <td>7653</td>\n",
       "      <td>25</td>\n",
       "      <td>Negar</td>\n",
       "      <td>Negar</td>\n",
       "    </tr>\n",
       "    <tr>\n",
       "      <th>1500</th>\n",
       "      <td>3316</td>\n",
       "      <td>33</td>\n",
       "      <td>Negar</td>\n",
       "      <td>Negar</td>\n",
       "    </tr>\n",
       "  </tbody>\n",
       "</table>\n",
       "</div>"
      ],
      "text/plain": [
       "      id_cliente  idade limite_adicional classificacao\n",
       "3825        5941     33            Negar         Negar\n",
       "8329        8646     23            Negar         Negar\n",
       "4078         713     25         Conceder      Conceder\n",
       "8081        9639     49            Negar         Negar\n",
       "5663         301     53         Conceder         Negar\n",
       "1497        7524     54            Negar         Negar\n",
       "560         2865     40            Negar         Negar\n",
       "8153        5163     44         Conceder         Negar\n",
       "4282        7653     25            Negar         Negar\n",
       "1500        3316     33            Negar         Negar"
      ]
     },
     "execution_count": 9,
     "metadata": {},
     "output_type": "execute_result"
    }
   ],
   "source": [
    "df_result.loc[:, ['id_cliente', 'idade', 'limite_adicional', 'classificacao']].sample(10)"
   ]
  },
  {
   "cell_type": "markdown",
   "id": "dd12b85d-c198-4ff8-945e-72e8b2f59515",
   "metadata": {},
   "source": [
    "### 4.0 Performance"
   ]
  },
  {
   "cell_type": "code",
   "execution_count": 10,
   "id": "60beca94-c18f-4873-99b1-9f634e025eff",
   "metadata": {
    "tags": []
   },
   "outputs": [
    {
     "data": {
      "text/plain": [
       "Negar       0.841579\n",
       "Conceder    0.158421\n",
       "Name: limite_adicional, dtype: float64"
      ]
     },
     "execution_count": 10,
     "metadata": {},
     "output_type": "execute_result"
    }
   ],
   "source": [
    "df_result.loc[:, 'limite_adicional'].value_counts( normalize=True)\n",
    "#Dados nao balanceados, logo a metrica da acuracia provavelmente nao e a melhor"
   ]
  },
  {
   "cell_type": "code",
   "execution_count": 11,
   "id": "35e2b5d6-78d7-4c85-b5c3-a043feeb9134",
   "metadata": {
    "tags": []
   },
   "outputs": [
    {
     "data": {
      "text/html": [
       "<div>\n",
       "<style scoped>\n",
       "    .dataframe tbody tr th:only-of-type {\n",
       "        vertical-align: middle;\n",
       "    }\n",
       "\n",
       "    .dataframe tbody tr th {\n",
       "        vertical-align: top;\n",
       "    }\n",
       "\n",
       "    .dataframe thead th {\n",
       "        text-align: right;\n",
       "    }\n",
       "</style>\n",
       "<table border=\"1\" class=\"dataframe\">\n",
       "  <thead>\n",
       "    <tr style=\"text-align: right;\">\n",
       "      <th></th>\n",
       "      <th>id_cliente</th>\n",
       "      <th>idade</th>\n",
       "      <th>limite_adicional</th>\n",
       "      <th>classificacao</th>\n",
       "    </tr>\n",
       "  </thead>\n",
       "  <tbody>\n",
       "    <tr>\n",
       "      <th>1090</th>\n",
       "      <td>2997</td>\n",
       "      <td>25</td>\n",
       "      <td>Negar</td>\n",
       "      <td>Negar</td>\n",
       "    </tr>\n",
       "    <tr>\n",
       "      <th>1729</th>\n",
       "      <td>5420</td>\n",
       "      <td>32</td>\n",
       "      <td>Negar</td>\n",
       "      <td>Negar</td>\n",
       "    </tr>\n",
       "    <tr>\n",
       "      <th>7908</th>\n",
       "      <td>12497</td>\n",
       "      <td>49</td>\n",
       "      <td>Conceder</td>\n",
       "      <td>Negar</td>\n",
       "    </tr>\n",
       "    <tr>\n",
       "      <th>3060</th>\n",
       "      <td>12430</td>\n",
       "      <td>30</td>\n",
       "      <td>Negar</td>\n",
       "      <td>Negar</td>\n",
       "    </tr>\n",
       "    <tr>\n",
       "      <th>673</th>\n",
       "      <td>3709</td>\n",
       "      <td>35</td>\n",
       "      <td>Negar</td>\n",
       "      <td>Negar</td>\n",
       "    </tr>\n",
       "    <tr>\n",
       "      <th>6308</th>\n",
       "      <td>11468</td>\n",
       "      <td>506</td>\n",
       "      <td>Negar</td>\n",
       "      <td>Negar</td>\n",
       "    </tr>\n",
       "    <tr>\n",
       "      <th>1130</th>\n",
       "      <td>7608</td>\n",
       "      <td>52</td>\n",
       "      <td>Negar</td>\n",
       "      <td>Negar</td>\n",
       "    </tr>\n",
       "    <tr>\n",
       "      <th>6159</th>\n",
       "      <td>2918</td>\n",
       "      <td>34</td>\n",
       "      <td>Negar</td>\n",
       "      <td>Negar</td>\n",
       "    </tr>\n",
       "    <tr>\n",
       "      <th>9295</th>\n",
       "      <td>4459</td>\n",
       "      <td>32</td>\n",
       "      <td>Negar</td>\n",
       "      <td>Negar</td>\n",
       "    </tr>\n",
       "    <tr>\n",
       "      <th>3659</th>\n",
       "      <td>4852</td>\n",
       "      <td>50</td>\n",
       "      <td>Negar</td>\n",
       "      <td>Negar</td>\n",
       "    </tr>\n",
       "  </tbody>\n",
       "</table>\n",
       "</div>"
      ],
      "text/plain": [
       "      id_cliente  idade limite_adicional classificacao\n",
       "1090        2997     25            Negar         Negar\n",
       "1729        5420     32            Negar         Negar\n",
       "7908       12497     49         Conceder         Negar\n",
       "3060       12430     30            Negar         Negar\n",
       "673         3709     35            Negar         Negar\n",
       "6308       11468    506            Negar         Negar\n",
       "1130        7608     52            Negar         Negar\n",
       "6159        2918     34            Negar         Negar\n",
       "9295        4459     32            Negar         Negar\n",
       "3659        4852     50            Negar         Negar"
      ]
     },
     "execution_count": 11,
     "metadata": {},
     "output_type": "execute_result"
    }
   ],
   "source": [
    "df_result['acertos'] = (df_result.loc[:, ['id_cliente', 'limite_adicional', 'classificacao']]\n",
    "                                 .apply(lambda x: 1 if x['limite_adicional'] == x['classificacao'] else 0, axis=1))\n",
    "df_result.loc[:, ['id_cliente', 'idade', 'limite_adicional', 'classificacao']].sample(10)"
   ]
  },
  {
   "cell_type": "code",
   "execution_count": 12,
   "id": "a41dc8d0-4af4-4227-afba-8e8872529931",
   "metadata": {
    "tags": []
   },
   "outputs": [
    {
     "data": {
      "text/plain": [
       "8161"
      ]
     },
     "execution_count": 12,
     "metadata": {},
     "output_type": "execute_result"
    }
   ],
   "source": [
    "df_result['acertos'].sum()"
   ]
  },
  {
   "cell_type": "code",
   "execution_count": 13,
   "id": "2ede777a-db87-4e4b-a3ea-9b2770f40010",
   "metadata": {
    "tags": []
   },
   "outputs": [
    {
     "data": {
      "text/plain": [
       "(9500, 19)"
      ]
     },
     "execution_count": 13,
     "metadata": {},
     "output_type": "execute_result"
    }
   ],
   "source": [
    "df_result.shape"
   ]
  },
  {
   "cell_type": "code",
   "execution_count": 14,
   "id": "d25d8080-c2ac-470e-9544-6b999f0416a8",
   "metadata": {
    "tags": []
   },
   "outputs": [
    {
     "data": {
      "text/plain": [
       "0.8590526315789474"
      ]
     },
     "execution_count": 14,
     "metadata": {},
     "output_type": "execute_result"
    }
   ],
   "source": [
    "8161 / 9500"
   ]
  },
  {
   "cell_type": "code",
   "execution_count": 15,
   "id": "168d3db9-ac76-4286-9535-5a43e8ccfca3",
   "metadata": {
    "tags": []
   },
   "outputs": [
    {
     "name": "stdout",
     "output_type": "stream",
     "text": [
      "Acuracia: 85.91%\n"
     ]
    }
   ],
   "source": [
    "print('Acuracia: {:.2f}%'.format(100 * 8161 / 9500))"
   ]
  },
  {
   "cell_type": "markdown",
   "id": "31a80b18-fbe8-45e4-9dff-922ad2cdcebb",
   "metadata": {},
   "source": [
    "### 4.1 Matriz de Confusao"
   ]
  },
  {
   "cell_type": "code",
   "execution_count": 16,
   "id": "b72f8afd-3882-409e-8a0f-0b63e431b8de",
   "metadata": {
    "tags": []
   },
   "outputs": [
    {
     "data": {
      "text/plain": [
       "array([[ 369, 1136],\n",
       "       [ 203, 7792]])"
      ]
     },
     "execution_count": 16,
     "metadata": {},
     "output_type": "execute_result"
    }
   ],
   "source": [
    "mt.confusion_matrix( y_train, y_pred)"
   ]
  },
  {
   "cell_type": "markdown",
   "id": "ace209f4-3a78-47c9-a62c-4dc4d35d8477",
   "metadata": {},
   "source": [
    "### 4.2 Acuracia"
   ]
  },
  {
   "cell_type": "code",
   "execution_count": 17,
   "id": "0bb80be9-2496-406a-b86f-aa60cda9cc59",
   "metadata": {
    "tags": []
   },
   "outputs": [
    {
     "data": {
      "text/plain": [
       "85.90526315789474"
      ]
     },
     "execution_count": 17,
     "metadata": {},
     "output_type": "execute_result"
    }
   ],
   "source": [
    "100 * (369 + 7792) / 9500"
   ]
  },
  {
   "cell_type": "code",
   "execution_count": 18,
   "id": "d1b02a69-f5d6-4329-835f-38c4670778b4",
   "metadata": {
    "tags": []
   },
   "outputs": [
    {
     "data": {
      "text/plain": [
       "85.90526315789474"
      ]
     },
     "execution_count": 18,
     "metadata": {},
     "output_type": "execute_result"
    }
   ],
   "source": [
    "100 * mt.accuracy_score( y_train, y_pred )"
   ]
  },
  {
   "cell_type": "markdown",
   "id": "f68886c6-098f-4820-bd8b-46ee1aa5d946",
   "metadata": {
    "tags": []
   },
   "source": [
    "### 4.3 Precision"
   ]
  },
  {
   "cell_type": "code",
   "execution_count": 19,
   "id": "ee5fcb78-5907-4194-be46-0a0dc79fc936",
   "metadata": {
    "tags": []
   },
   "outputs": [
    {
     "data": {
      "text/plain": [
       "0.6451048951048951"
      ]
     },
     "execution_count": 19,
     "metadata": {},
     "output_type": "execute_result"
    }
   ],
   "source": [
    "mt.precision_score( y_train, y_pred, pos_label='Conceder')\n",
    "#Quando o average e binary (dois labels) deve ser informado o pos_label (label positivo)"
   ]
  },
  {
   "cell_type": "markdown",
   "id": "c9f1da2f-0ad9-4080-9182-2ec902f2bbb2",
   "metadata": {
    "tags": []
   },
   "source": [
    "### 4.4 Recall"
   ]
  },
  {
   "cell_type": "code",
   "execution_count": 20,
   "id": "f5f76556-1d49-42ab-9e48-08cddb4bc705",
   "metadata": {
    "tags": []
   },
   "outputs": [
    {
     "data": {
      "text/plain": [
       "0.24518272425249169"
      ]
     },
     "execution_count": 20,
     "metadata": {},
     "output_type": "execute_result"
    }
   ],
   "source": [
    "mt.recall_score( y_train, y_pred, pos_label='Conceder')\n",
    "#Quando o average e binary (dois labels) deve ser informado o pos_label (label positivo)"
   ]
  },
  {
   "cell_type": "markdown",
   "id": "905a912f-b28c-4a89-95d1-c8393cc933b3",
   "metadata": {},
   "source": [
    "### 5.0 Exercicios"
   ]
  },
  {
   "cell_type": "markdown",
   "id": "c901a046-19bd-4305-be3d-e35fd5d540f6",
   "metadata": {
    "tags": []
   },
   "source": [
    "#### Exercicios 1, 2 e 5"
   ]
  },
  {
   "cell_type": "code",
   "execution_count": 31,
   "id": "fe6d7d1a-68c1-4f14-aef7-940c61eb555e",
   "metadata": {
    "tags": []
   },
   "outputs": [
    {
     "data": {
      "text/plain": [
       "array(['Negar', 'Conceder'], dtype=object)"
      ]
     },
     "execution_count": 31,
     "metadata": {},
     "output_type": "execute_result"
    }
   ],
   "source": [
    "df['limite_adicional'].unique()"
   ]
  },
  {
   "cell_type": "code",
   "execution_count": 75,
   "id": "5b410b65-b7d4-4b13-ac5b-59aefdd6a43b",
   "metadata": {
    "tags": []
   },
   "outputs": [],
   "source": [
    "ks = [3,5,7,9,11,13,15]\n",
    "accuracies = []\n",
    "precisions_negar = []\n",
    "precisions_conceder = []\n",
    "recalls_negar = []\n",
    "recalls_conceder = []\n",
    "for i in ks:\n",
    "    knnc = KNeighborsClassifier(n_neighbors = i)\n",
    "    knnc.fit(x_train, y_train)\n",
    "    y_pred = knnc.predict(x_train)\n",
    "    accuracies.append(mt.accuracy_score(y_train, y_pred))\n",
    "    precisions_negar.append(mt.precision_score(y_train, y_pred,pos_label='Negar'))\n",
    "    precisions_conceder.append(mt.precision_score(y_train, y_pred,pos_label='Conceder'))\n",
    "    recalls_negar.append(mt.recall_score(y_train, y_pred,pos_label='Negar'))\n",
    "    recalls_conceder.append(mt.recall_score(y_train, y_pred,pos_label='Conceder'))"
   ]
  },
  {
   "cell_type": "code",
   "execution_count": 76,
   "id": "a357fa40-aaa2-4819-aefd-7f1b12aaec29",
   "metadata": {},
   "outputs": [],
   "source": [
    "import matplotlib.pyplot as plt"
   ]
  },
  {
   "cell_type": "code",
   "execution_count": 77,
   "id": "8e413eaf-487b-41df-941e-baa685cc6abf",
   "metadata": {
    "tags": []
   },
   "outputs": [
    {
     "data": {
      "text/plain": [
       "[<matplotlib.lines.Line2D at 0x7f3177772880>]"
      ]
     },
     "execution_count": 77,
     "metadata": {},
     "output_type": "execute_result"
    },
    {
     "data": {
      "image/png": "[encoded data removed]",
      "text/plain": [
       "<Figure size 640x480 with 5 Axes>"
      ]
     },
     "metadata": {},
     "output_type": "display_data"
    }
   ],
   "source": [
    "fig, axs= plt.subplot_mosaic([['acc','prec','pren'],\n",
    "                              ['recc', '.','recn']])\n",
    "acc, prec, pren, recc, recn = axs.values()\n",
    "acc.plot(ks, accuracies)\n",
    "prec.plot(ks, precisions_conceder)\n",
    "pren.plot(ks, precisions_negar)\n",
    "recc.plot(ks, recalls_conceder)\n",
    "recn.plot(ks, recalls_negar)"
   ]
  },
  {
   "cell_type": "code",
   "execution_count": 78,
   "id": "ef28a733-c619-4b14-8f16-345f364ea7b5",
   "metadata": {
    "tags": []
   },
   "outputs": [
    {
     "name": "stdout",
     "output_type": "stream",
     "text": [
      "O melhor valor de k com base na accuracia e 3\n"
     ]
    }
   ],
   "source": [
    "print('O melhor valor de k com base na accuracia e %d' %  ks[accuracies.index(max(accuracies))]) "
   ]
  },
  {
   "cell_type": "markdown",
   "id": "9f3f10b7-ce1a-4e31-a39d-25c9ccc66187",
   "metadata": {
    "tags": []
   },
   "source": [
    "#### Exercicio 3"
   ]
  },
  {
   "cell_type": "markdown",
   "id": "6518ec67-b63c-491a-93d0-16022afa79cc",
   "metadata": {},
   "source": [
    "A metrica acuracia aponta a acuracia do modelo em prever todos os casos... Ela simplesmente faz a soma do total de acertos e divide pelo total de predicoes.\n",
    "O problema disso e que podem aver desbalanceamentos nos dados.\n",
    "Por exemplo.: Digamos que tenhamos 200 labels A e apenas 10 lebals B as predicoes o modelo acerte todos os As e erre todos os Bs..\n",
    "A accuracia aferida seria de 200/210 = 95%.\n",
    "Porem digamos que o label B signifique que os casos de fraude de um banco concessor de creditos.\n",
    "Podemos observar que apesar da acuracia de 95% do modelo o sistema FALHOU em 100% no momento de identificar os labels B.\n",
    "Isso ocorre porque os labels estao desbalanceados. Existem muito mais labels A do que B nos dados de treino e neste caso possivelmente na realidade."
   ]
  },
  {
   "cell_type": "markdown",
   "id": "1e244741-9e6f-4260-85b9-e3b761d6d495",
   "metadata": {},
   "source": [
    "#### Exercicio 4"
   ]
  },
  {
   "cell_type": "markdown",
   "id": "865a4bfd-aead-4415-9cd3-28ba5073ebb3",
   "metadata": {},
   "source": [
    "A metrica precisio mede a precisao dos dados preditos pelo algoritipo. Ou seja, de todas as predicoes de labels A, quantas estavam corretas?\n",
    "Ja a metrica de recall mede a capacidade do modelo de identificar determinado label. Ou seja, de todos os labels A existentes, quantos o modelo identificou? "
   ]
  },
  {
   "cell_type": "markdown",
   "id": "ea2c87b8-db80-4587-ac95-cff8059d2ced",
   "metadata": {},
   "source": [
    "#### Exercicio 6"
   ]
  },
  {
   "cell_type": "markdown",
   "id": "43b13364-34d1-4aa6-8147-fdeb176bd799",
   "metadata": {
    "tags": []
   },
   "source": [
    "P (Positivo) sao todos os valores de um dos labels, seja qual for  o escolhido para ser o P e o outro label sera o N (Negativo).\n",
    "TP sao os positivos que o modelo identificou como positivo\n",
    "FP sao os negativos que o modelo identificou como positivo\n",
    "TN sao os negativos que o modelo identificou como negativo\n",
    "FN sao os positivos que o modelo identificou como positivo"
   ]
  },
  {
   "cell_type": "markdown",
   "id": "0b696cbb-4e31-4f0d-8114-46c3eeb3fcbf",
   "metadata": {},
   "source": [
    "#### Exercicio 7"
   ]
  },
  {
   "cell_type": "markdown",
   "id": "b07cf7d7-66f9-49fc-8f1f-bf3ab7193620",
   "metadata": {},
   "source": [
    "Sim, existem duas.\n",
    "A unica premissa do KNN e de que as features utilizadas para a predicao devem ser dados quantitativos.\n",
    "No dataset informado existem duas features que nao sao quantitativos:\n",
    "- investe_exteror\n",
    "- pessoa_polit_exp"
   ]
  },
  {
   "cell_type": "code",
   "execution_count": null,
   "id": "406a0392-216e-4775-ba3f-a86e8ecad0db",
   "metadata": {},
   "outputs": [],
   "source": []
  }
 ],
 "metadata": {
  "kernelspec": {
   "display_name": "Python 3 (ipykernel)",
   "language": "python",
   "name": "python3"
  },
  "language_info": {
   "codemirror_mode": {
    "name": "ipython",
    "version": 3
   },
   "file_extension": ".py",
   "mimetype": "text/x-python",
   "name": "python",
   "nbconvert_exporter": "python",
   "pygments_lexer": "ipython3",
   "version": "3.8.16"
  }
 },
 "nbformat": 4,
 "nbformat_minor": 5
}
