{
 "cells": [
  {
   "cell_type": "markdown",
   "id": "125cc81a-b641-4f5e-879f-147855dab725",
   "metadata": {},
   "source": [
    "# Treinamento do Joaquim: DS Novato"
   ]
  },
  {
   "cell_type": "code",
   "execution_count": 1,
   "id": "19007251-1e5b-4348-b1bd-5f142702a235",
   "metadata": {
    "tags": []
   },
   "outputs": [],
   "source": [
    "from sklearn import datasets as ds\n",
    "from sklearn import model_selection as ms\n",
    "from sklearn import tree as tr\n",
    "from sklearn import metrics as mt\n",
    "import pandas as pd\n",
    "import numpy as np\n",
    "import matplotlib.pyplot as plt"
   ]
  },
  {
   "cell_type": "markdown",
   "id": "15669fd1-1ecc-48fb-94a5-0961c954bcaa",
   "metadata": {
    "tags": []
   },
   "source": [
    "# Dados sintéticos"
   ]
  },
  {
   "cell_type": "code",
   "execution_count": 14,
   "id": "3c0701de-7b8f-4e2b-9c80-05471611f037",
   "metadata": {
    "tags": []
   },
   "outputs": [],
   "source": [
    "n_samples=20000\n",
    "n_features=2\n",
    "n_informative=2\n",
    "n_redundant=0\n",
    "random_state=0\n",
    "#dataset\n",
    "X, y = ds.make_classification( n_samples=n_samples,\n",
    "                               n_features=n_features,\n",
    "                               n_informative=n_informative,\n",
    "                               n_redundant=n_redundant,\n",
    "                               random_state=random_state )"
   ]
  },
  {
   "cell_type": "markdown",
   "id": "08e9645e-0f6f-451d-9553-d0407ffdec8a",
   "metadata": {
    "tags": []
   },
   "source": [
    "# Sem separação dos dados"
   ]
  },
  {
   "cell_type": "code",
   "execution_count": 15,
   "id": "a2976770-9067-4d8f-9db1-cc26f4eec261",
   "metadata": {
    "tags": []
   },
   "outputs": [
    {
     "name": "stdout",
     "output_type": "stream",
     "text": [
      "Accuracy Over Training: 1.0\n"
     ]
    }
   ],
   "source": [
    "#production dataset\n",
    "X_train, X_prod, y_train, y_prod = ms.train_test_split(X, y, test_size=0.2, random_state=random_state)\n",
    "# define model\n",
    "dtc = tr.DecisionTreeClassifier( max_depth=38 )\n",
    "# fit\n",
    "dtc.fit(X_train, y_train)\n",
    "# predction\n",
    "y_pred = dtc.predict(X_train)\n",
    "# accuracy\n",
    "acc = mt.accuracy_score(y_train, y_pred)\n",
    "print('Accuracy Over Training: {}'.format(acc))"
   ]
  },
  {
   "cell_type": "markdown",
   "id": "c8bb3ff4-7263-4f9d-980d-775f94f60ada",
   "metadata": {
    "tags": []
   },
   "source": [
    "## Publicando do modelo em produção"
   ]
  },
  {
   "cell_type": "code",
   "execution_count": 16,
   "id": "c9e693d4-b15d-4690-8a06-a6a76558dafc",
   "metadata": {
    "tags": []
   },
   "outputs": [
    {
     "name": "stdout",
     "output_type": "stream",
     "text": [
      "Accuracy Over Training: 0.8535\n"
     ]
    }
   ],
   "source": [
    "y_pred = dtc.predict( X_prod )\n",
    "acc = mt.accuracy_score(y_prod, y_pred)\n",
    "print('Accuracy Over Training: {}'.format(acc))"
   ]
  },
  {
   "cell_type": "code",
   "execution_count": 17,
   "id": "31314a4f-5288-4a74-936d-8b251da3ac5f",
   "metadata": {
    "tags": []
   },
   "outputs": [],
   "source": [
    "#Acurácia do modelo em produção não corresponde ao modelo testado."
   ]
  },
  {
   "cell_type": "markdown",
   "id": "dcfea98b-1c51-436c-89ff-cd6ec24b90a8",
   "metadata": {
    "tags": []
   },
   "source": [
    "# Estratégia Treino-Teste"
   ]
  },
  {
   "cell_type": "code",
   "execution_count": 18,
   "id": "6b554d4a-e5b4-4eee-8eb8-b4f963477c53",
   "metadata": {
    "tags": []
   },
   "outputs": [],
   "source": [
    "# separa os dados entre train e test\n",
    "X_train, X_test, y_train, y_test = ms.train_test_split(X, y, test_size=0.2, random_state=random_state)"
   ]
  },
  {
   "cell_type": "code",
   "execution_count": 19,
   "id": "70a1107e-f9c0-4e60-a611-97a3c154ba2f",
   "metadata": {
    "tags": []
   },
   "outputs": [
    {
     "name": "stdout",
     "output_type": "stream",
     "text": [
      "Accuracy Over Test: 0.85175\n"
     ]
    }
   ],
   "source": [
    "# treinando os modelos com os dados de treinamento\n",
    "dtc = tr.DecisionTreeClassifier( max_depth=38 )\n",
    "dtc.fit(X_train, y_train)\n",
    "y_pred = dtc.predict(X_test)\n",
    "acc = mt.accuracy_score(y_test, y_pred)\n",
    "print('Accuracy Over Test: {}'.format(acc))"
   ]
  },
  {
   "cell_type": "markdown",
   "id": "763452af-0caf-4900-8978-c057bd565a93",
   "metadata": {
    "tags": []
   },
   "source": [
    "## Escolhendo o melhor parämetro"
   ]
  },
  {
   "cell_type": "code",
   "execution_count": 20,
   "id": "55bd1745-c0c8-437b-9334-30c826e0d767",
   "metadata": {
    "tags": []
   },
   "outputs": [],
   "source": [
    "values = list(range(1,60))\n",
    "accuracy_scores = []\n",
    "for i in values:\n",
    "    dtc = tr.DecisionTreeClassifier( max_depth=i )\n",
    "    dtc.fit( X_train, y_train )\n",
    "    y_pred = dtc.predict( X_test )\n",
    "    acc = mt.accuracy_score(y_test, y_pred)\n",
    "    accuracy_scores.append(acc)"
   ]
  },
  {
   "cell_type": "code",
   "execution_count": 21,
   "id": "2c3a1c4d-0d1a-476d-9e7a-37d72b19a0d6",
   "metadata": {
    "tags": []
   },
   "outputs": [
    {
     "data": {
      "text/plain": [
       "[<matplotlib.lines.Line2D at 0x7fca98cc1430>]"
      ]
     },
     "execution_count": 21,
     "metadata": {},
     "output_type": "execute_result"
    },
    {
     "data": {
      "image/png": "[encoded data removed]",
      "text/plain": [
       "<Figure size 640x480 with 1 Axes>"
      ]
     },
     "metadata": {},
     "output_type": "display_data"
    }
   ],
   "source": [
    "plt.plot(values, accuracy_scores, '-o')"
   ]
  },
  {
   "cell_type": "markdown",
   "id": "2dd6bbf6-0325-4989-a0d5-8763aa24912a",
   "metadata": {
    "tags": []
   },
   "source": [
    "## Publicando do modelo em produção"
   ]
  },
  {
   "cell_type": "code",
   "execution_count": 22,
   "id": "df691866-257d-4e53-9a38-578715a1d4e0",
   "metadata": {
    "tags": []
   },
   "outputs": [
    {
     "name": "stdout",
     "output_type": "stream",
     "text": [
      "Accuracy Over Preduction: 0.888\n"
     ]
    }
   ],
   "source": [
    "#modelo final treinado\n",
    "dtc = tr.DecisionTreeClassifier( max_depth=6 )\n",
    "dtc.fit(np.concatenate( (X_train, X_test) ),\n",
    "        np.concatenate( (y_train, y_test) ))\n",
    "\n",
    "#classificação sobre os dados de produção\n",
    "y_pred = dtc.predict( X_prod )\n",
    "acc = mt.accuracy_score(y_prod, y_pred)\n",
    "\n",
    "print('Accuracy Over Preduction: {}'.format(acc))"
   ]
  },
  {
   "cell_type": "markdown",
   "id": "5242e61f-13df-4856-9f0c-0a45d830256a",
   "metadata": {},
   "source": [
    "# Estratégia Treino-Validação-Teste"
   ]
  },
  {
   "cell_type": "code",
   "execution_count": 25,
   "id": "103d30e5-edfe-4f8e-b8b0-18bf0bd31a44",
   "metadata": {
    "tags": []
   },
   "outputs": [
    {
     "data": {
      "text/plain": [
       "(2000, 2)"
      ]
     },
     "execution_count": 25,
     "metadata": {},
     "output_type": "execute_result"
    }
   ],
   "source": [
    "X_train, X_test, y_train, y_test = ms.train_test_split(X, y, test_size=0.2)\n",
    "X_test, X_val, y_test, y_val = ms.train_test_split(X_test, y_test, test_size=0.5)"
   ]
  },
  {
   "cell_type": "code",
   "execution_count": 27,
   "id": "b5a9ecf9-6e52-4a0a-8a2c-693b84a5be1f",
   "metadata": {
    "tags": []
   },
   "outputs": [
    {
     "data": {
      "text/plain": [
       "[<matplotlib.lines.Line2D at 0x7fca98b9e730>]"
      ]
     },
     "execution_count": 27,
     "metadata": {},
     "output_type": "execute_result"
    },
    {
     "data": {
      "image/png": "[encoded data removed]",
      "text/plain": [
       "<Figure size 640x480 with 1 Axes>"
      ]
     },
     "metadata": {},
     "output_type": "display_data"
    }
   ],
   "source": [
    "#treina sob os dados de treino e descobre os melhores parametros sob os dados de validação\n",
    "values = list(range(1,60))\n",
    "accuracy_scores = []\n",
    "for i in values:\n",
    "    dtc = tr.DecisionTreeClassifier( max_depth=i )\n",
    "    dtc.fit( X_train, y_train )\n",
    "    y_pred = dtc.predict( X_val )\n",
    "    acc = mt.accuracy_score(y_val, y_pred)\n",
    "    accuracy_scores.append(acc)\n",
    "plt.plot(values, accuracy_scores, '-o')"
   ]
  },
  {
   "cell_type": "code",
   "execution_count": 30,
   "id": "757b2036-2a00-4bb2-8e2b-3cfa4e8cf1d5",
   "metadata": {
    "tags": []
   },
   "outputs": [
    {
     "name": "stdout",
     "output_type": "stream",
     "text": [
      "Accuracy Over Preduction: 0.884\n"
     ]
    }
   ],
   "source": [
    "#validando acurácia com o parametro max_depth = 8\n",
    "dtc = tr.DecisionTreeClassifier( max_depth=8 )\n",
    "dtc.fit(X_train, y_train)\n",
    "y_pred = dtc.predict( X_val )\n",
    "acc = mt.accuracy_score(y_val, y_pred)\n",
    "\n",
    "print('Accuracy Over Preduction: {}'.format(acc))"
   ]
  },
  {
   "cell_type": "code",
   "execution_count": 32,
   "id": "be3f305a-2fee-45be-97f2-fe337b59f435",
   "metadata": {
    "tags": []
   },
   "outputs": [
    {
     "name": "stdout",
     "output_type": "stream",
     "text": [
      "Accuracy Over Test Data: 0.8865\n"
     ]
    }
   ],
   "source": [
    "#Modelo treinado sob train+validation\n",
    "dtc.fit(np.concatenate((X_train, X_val)),\n",
    "        np.concatenate((y_train, y_val)))\n",
    "y_pred = dtc.predict( X_test )\n",
    "acc = mt.accuracy_score(y_test, y_pred)\n",
    "print('Accuracy Over Test Data: {}'.format(acc))"
   ]
  },
  {
   "cell_type": "code",
   "execution_count": 35,
   "id": "bfd3ad5d-21c6-443b-a0b0-6f6ec73f90c6",
   "metadata": {
    "tags": []
   },
   "outputs": [],
   "source": [
    "# 0.8865 é a real métrica de acuracia do algoritimo para dados que ele nunca viu.\n",
    "# É a métrica que deve ser informada para a equipe de negócios"
   ]
  },
  {
   "cell_type": "code",
   "execution_count": 34,
   "id": "d83f0501-a5d5-4510-ba2e-f9e0c6132c82",
   "metadata": {
    "tags": []
   },
   "outputs": [
    {
     "name": "stdout",
     "output_type": "stream",
     "text": [
      "Accuracy Over Production Data: 0.89775\n"
     ]
    }
   ],
   "source": [
    "#Modelo treinado sob train+validation\n",
    "y_pred = dtc.predict( X_prod )\n",
    "acc = mt.accuracy_score(y_prod, y_pred)\n",
    "print('Accuracy Over Production Data: {}'.format(acc))"
   ]
  },
  {
   "cell_type": "code",
   "execution_count": 36,
   "id": "d779da8d-bd28-46b2-b1d6-cc366ced78d8",
   "metadata": {
    "tags": []
   },
   "outputs": [
    {
     "data": {
      "text/html": [
       "<style>#sk-container-id-1 {color: black;background-color: white;}#sk-container-id-1 pre{padding: 0;}#sk-container-id-1 div.sk-toggleable {background-color: white;}#sk-container-id-1 label.sk-toggleable__label {cursor: pointer;display: block;width: 100%;margin-bottom: 0;padding: 0.3em;box-sizing: border-box;text-align: center;}#sk-container-id-1 label.sk-toggleable__label-arrow:before {content: \"▸\";float: left;margin-right: 0.25em;color: #696969;}#sk-container-id-1 label.sk-toggleable__label-arrow:hover:before {color: black;}#sk-container-id-1 div.sk-estimator:hover label.sk-toggleable__label-arrow:before {color: black;}#sk-container-id-1 div.sk-toggleable__content {max-height: 0;max-width: 0;overflow: hidden;text-align: left;background-color: #f0f8ff;}#sk-container-id-1 div.sk-toggleable__content pre {margin: 0.2em;color: black;border-radius: 0.25em;background-color: #f0f8ff;}#sk-container-id-1 input.sk-toggleable__control:checked~div.sk-toggleable__content {max-height: 200px;max-width: 100%;overflow: auto;}#sk-container-id-1 input.sk-toggleable__control:checked~label.sk-toggleable__label-arrow:before {content: \"▾\";}#sk-container-id-1 div.sk-estimator input.sk-toggleable__control:checked~label.sk-toggleable__label {background-color: #d4ebff;}#sk-container-id-1 div.sk-label input.sk-toggleable__control:checked~label.sk-toggleable__label {background-color: #d4ebff;}#sk-container-id-1 input.sk-hidden--visually {border: 0;clip: rect(1px 1px 1px 1px);clip: rect(1px, 1px, 1px, 1px);height: 1px;margin: -1px;overflow: hidden;padding: 0;position: absolute;width: 1px;}#sk-container-id-1 div.sk-estimator {font-family: monospace;background-color: #f0f8ff;border: 1px dotted black;border-radius: 0.25em;box-sizing: border-box;margin-bottom: 0.5em;}#sk-container-id-1 div.sk-estimator:hover {background-color: #d4ebff;}#sk-container-id-1 div.sk-parallel-item::after {content: \"\";width: 100%;border-bottom: 1px solid gray;flex-grow: 1;}#sk-container-id-1 div.sk-label:hover label.sk-toggleable__label {background-color: #d4ebff;}#sk-container-id-1 div.sk-serial::before {content: \"\";position: absolute;border-left: 1px solid gray;box-sizing: border-box;top: 0;bottom: 0;left: 50%;z-index: 0;}#sk-container-id-1 div.sk-serial {display: flex;flex-direction: column;align-items: center;background-color: white;padding-right: 0.2em;padding-left: 0.2em;position: relative;}#sk-container-id-1 div.sk-item {position: relative;z-index: 1;}#sk-container-id-1 div.sk-parallel {display: flex;align-items: stretch;justify-content: center;background-color: white;position: relative;}#sk-container-id-1 div.sk-item::before, #sk-container-id-1 div.sk-parallel-item::before {content: \"\";position: absolute;border-left: 1px solid gray;box-sizing: border-box;top: 0;bottom: 0;left: 50%;z-index: -1;}#sk-container-id-1 div.sk-parallel-item {display: flex;flex-direction: column;z-index: 1;position: relative;background-color: white;}#sk-container-id-1 div.sk-parallel-item:first-child::after {align-self: flex-end;width: 50%;}#sk-container-id-1 div.sk-parallel-item:last-child::after {align-self: flex-start;width: 50%;}#sk-container-id-1 div.sk-parallel-item:only-child::after {width: 0;}#sk-container-id-1 div.sk-dashed-wrapped {border: 1px dashed gray;margin: 0 0.4em 0.5em 0.4em;box-sizing: border-box;padding-bottom: 0.4em;background-color: white;}#sk-container-id-1 div.sk-label label {font-family: monospace;font-weight: bold;display: inline-block;line-height: 1.2em;}#sk-container-id-1 div.sk-label-container {text-align: center;}#sk-container-id-1 div.sk-container {/* jupyter's `normalize.less` sets `[hidden] { display: none; }` but bootstrap.min.css set `[hidden] { display: none !important; }` so we also need the `!important` here to be able to override the default hidden behavior on the sphinx rendered scikit-learn.org. See: https://github.com/scikit-learn/scikit-learn/issues/21755 */display: inline-block !important;position: relative;}#sk-container-id-1 div.sk-text-repr-fallback {display: none;}</style><div id=\"sk-container-id-1\" class=\"sk-top-container\"><div class=\"sk-text-repr-fallback\"><pre>DecisionTreeClassifier(max_depth=8)</pre><b>In a Jupyter environment, please rerun this cell to show the HTML representation or trust the notebook. <br />On GitHub, the HTML representation is unable to render, please try loading this page with nbviewer.org.</b></div><div class=\"sk-container\" hidden><div class=\"sk-item\"><div class=\"sk-estimator sk-toggleable\"><input class=\"sk-toggleable__control sk-hidden--visually\" id=\"sk-estimator-id-1\" type=\"checkbox\" checked><label for=\"sk-estimator-id-1\" class=\"sk-toggleable__label sk-toggleable__label-arrow\">DecisionTreeClassifier</label><div class=\"sk-toggleable__content\"><pre>DecisionTreeClassifier(max_depth=8)</pre></div></div></div></div></div>"
      ],
      "text/plain": [
       "DecisionTreeClassifier(max_depth=8)"
      ]
     },
     "execution_count": 36,
     "metadata": {},
     "output_type": "execute_result"
    }
   ],
   "source": [
    "#Ajusta o último modelo para produção com todos os dados fornecidos.\n",
    "dtc.fit(np.concatenate((X_train, X_val, X_test)),\n",
    "        np.concatenate((y_train, y_val, y_test)))"
   ]
  },
  {
   "cell_type": "code",
   "execution_count": 37,
   "id": "1466a033-6ad4-4df2-b9be-cae906bbee62",
   "metadata": {
    "tags": []
   },
   "outputs": [],
   "source": [
    "#Após o modelo ir para produção ele pode ser reajustado ao longo do tempo a medida que novos dados são gerados."
   ]
  },
  {
   "cell_type": "code",
   "execution_count": null,
   "id": "71480685-6945-4071-aa86-b246a8153ffa",
   "metadata": {},
   "outputs": [],
   "source": []
  }
 ],
 "metadata": {
  "kernelspec": {
   "display_name": "Python 3 (ipykernel)",
   "language": "python",
   "name": "python3"
  },
  "language_info": {
   "codemirror_mode": {
    "name": "ipython",
    "version": 3
   },
   "file_extension": ".py",
   "mimetype": "text/x-python",
   "name": "python",
   "nbconvert_exporter": "python",
   "pygments_lexer": "ipython3",
   "version": "3.8.16"
  }
 },
 "nbformat": 4,
 "nbformat_minor": 5
}
